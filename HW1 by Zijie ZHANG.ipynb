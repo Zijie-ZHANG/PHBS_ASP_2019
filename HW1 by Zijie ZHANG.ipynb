{
 "cells": [
  {
   "cell_type": "markdown",
   "metadata": {},
   "source": [
    "# HW 1: Corporate Bond Pricing (due by 9.17 Tues)"
   ]
  },
  {
   "cell_type": "markdown",
   "metadata": {},
   "source": [
    "We are going to compute the price of a corporate bond (subject to default) with Monte-Carlo simulation. Assume that \n",
    "* the default time of a company follows the exponential distribution with intensity $\\lambda=$__`def_rate`__. \n",
    "* the riskfree interest rate is $r_f=$__`rf_rate`__ and the maturity of the bond is $T=$__`mat`__. \n",
    "* in the case of default, you can recover some portion ($R=$__`recovery_rate`__) of the face value.\n",
    "* the coupon is 0%, i.e., it is a zero-coupon bond.\n",
    "* the face value of the bond is 1.0\n",
    "* use compound rate for discounting; the price of the default-free bond is $e^{-r_f T}$\n",
    "\n",
    "The Problem 1 of the [2017 ASP Midterm Exam](../files/ASP2017_Midterm.pdf) will be helpful.\n",
    "\n",
    "### Instruction to upload your HW\n",
    "* Create a repository named __`PHBS_ASP_2019`__ (and clone it to your PC)\n",
    "* Copy this file to __`PHBS_ASP_2019/HW1/HW1.ipynb`__  (Please use the same name for repository and ipynb file)\n",
    "* Add solution code.\n",
    "* Run your your code to make sure that there's no error.\n",
    "* Upload (commit and sync) your file."
   ]
  },
  {
   "cell_type": "code",
   "execution_count": null,
   "metadata": {},
   "outputs": [],
   "source": []
  },
  {
   "cell_type": "markdown",
   "metadata": {},
   "source": [
    "### 1. First, let's create a pricing function and check the std "
   ]
  },
  {
   "cell_type": "code",
   "execution_count": 1,
   "metadata": {},
   "outputs": [],
   "source": [
    "import numpy as np"
   ]
  },
  {
   "cell_type": "code",
   "execution_count": 2,
   "metadata": {},
   "outputs": [],
   "source": [
    "def_rate = 0.1\n",
    "rf_rate = 0.03\n",
    "recovery = 0.3\n",
    "mat = 10"
   ]
  },
  {
   "cell_type": "markdown",
   "metadata": {},
   "source": []
  },
  {
   "cell_type": "code",
   "execution_count": 3,
   "metadata": {},
   "outputs": [
    {
     "data": {
      "text/plain": [
       "(9.965145820782153, 10.0)"
      ]
     },
     "execution_count": 3,
     "metadata": {},
     "output_type": "execute_result"
    }
   ],
   "source": [
    "# First generate exponential random numbers\n",
    "# Although you can generate directly using fault_time = np.random.exponential(scale=), let's use uniform random numbers.\n",
    "n_sample = 10000\n",
    "U = np.random.uniform(size=n_sample)\n",
    "default_time = -(1/def_rate)*np.log(U)\n",
    "\n",
    "# You can check if the RNs are correct by comparing the means\n",
    "(default_time.mean(), 1/def_rate)"
   ]
  },
  {
   "cell_type": "code",
   "execution_count": 4,
   "metadata": {},
   "outputs": [
    {
     "name": "stdout",
     "output_type": "stream",
     "text": [
      "0.44153192751096204\n",
      "0.44047643947611803\n",
      "0.00233110622838855\n"
     ]
    }
   ],
   "source": [
    "# Put your code here to price the corporate bond\n",
    "\n",
    "def corp_bond(mat=1, def_rate=0.03, rf_rate=0.04, recovery=0.3, n_sample=1e4):\n",
    "    n_sample=int(n_sample)\n",
    "    U = np.random.uniform(size=n_sample)\n",
    "    default_time = -(1/def_rate)*np.log(U)\n",
    "    CBPriceSample=[]\n",
    "    for i in range(0,int(n_sample)):\n",
    "        if default_time[i]<=mat:\n",
    "            CBPriceSample.append(recovery*np.exp(-rf_rate*default_time[i]))\n",
    "        else:\n",
    "            CBPriceSample.append(np.exp(-rf_rate*mat))\n",
    "    return np.mean(np.array(CBPriceSample))\n",
    "\n",
    "# Call your function\n",
    "print(corp_bond(mat, def_rate, rf_rate, recovery, n_sample))\n",
    "\n",
    "# Find the mean and std by calling the function 100 times. \n",
    "\n",
    "MCRecord=[]\n",
    "for i in range(0,100):\n",
    "    MCRecord.append(corp_bond(mat, def_rate, rf_rate, recovery, n_sample))\n",
    "MCmean=np.mean(np.array(MCRecord))\n",
    "MCStd=np.std(np.array(MCRecord))\n",
    "print(MCmean)\n",
    "print(MCStd)"
   ]
  },
  {
   "cell_type": "markdown",
   "metadata": {},
   "source": [
    "### 2. Now, let's improve the function by reducing the MC variations.\n",
    "1. Use antithetic method: If `U` is uniform random variable, so is `1-U`\n",
    "2. Also shift the RNs to match the mean, `1/def_rate`"
   ]
  },
  {
   "cell_type": "code",
   "execution_count": 5,
   "metadata": {},
   "outputs": [
    {
     "data": {
      "text/plain": [
       "(10.0, 10.0)"
      ]
     },
     "execution_count": 5,
     "metadata": {},
     "output_type": "execute_result"
    }
   ],
   "source": [
    "# For example, antithetic method mean\n",
    "n_sample = 10000\n",
    "U = np.random.uniform(size=int(n_sample/2))\n",
    "default_time = -(1/def_rate)*np.log(np.concatenate((U,1-U),axis=0))\n",
    "\n",
    "# Mean-matching means\n",
    "default_time += 1/def_rate-default_time.mean()\n",
    "(default_time.mean(), 1/def_rate)"
   ]
  },
  {
   "cell_type": "code",
   "execution_count": 6,
   "metadata": {},
   "outputs": [
    {
     "name": "stdout",
     "output_type": "stream",
     "text": [
      "Antithetic Method\n",
      "0.44067361621452555\n",
      "0.0015855891565306572\n",
      "Mean-Matching Method\n",
      "0.44050752561509937\n",
      "0.0015009565836833821\n",
      "Both Methods\n",
      "0.4404578412267239\n",
      "0.0014298788608125177\n"
     ]
    }
   ],
   "source": [
    "# No include the two new features: `antithetic` and `mean_match`\n",
    "\n",
    "def corp_bond_cv(mat=1, def_rate=0.03, rf_rate=0.04, recovery=0.3, n_sample=1e4, antithetic=True, mean_match=True):\n",
    "    ### <--\n",
    "    if(antithetic):\n",
    "        U = np.random.uniform(size=int(n_sample/2))\n",
    "        default_time = -(1/def_rate)*np.log(np.concatenate((U,1-U),axis=0))\n",
    "    else:\n",
    "        U = np.random.uniform(size=n_sample)\n",
    "        default_time = -(1/def_rate)*np.log(U)\n",
    "        \n",
    "    if(mean_match):\n",
    "        default_time += 1/def_rate-default_time.mean()\n",
    "    \n",
    "    CBPriceSample=[]\n",
    "    for i in range(0,int(n_sample)):\n",
    "        if default_time[i]<=mat:\n",
    "            CBPriceSample.append(recovery*np.exp(-rf_rate*default_time[i]))\n",
    "        else:\n",
    "            CBPriceSample.append(np.exp(-rf_rate*mat))\n",
    "    return np.mean(np.array(CBPriceSample))\n",
    "\n",
    "# Find the mean and std by calling the function 100 times for (i) antithetic (ii) mean_match and (iii) both\n",
    "MCRecordAnti=[]\n",
    "for i in range(0,100):\n",
    "    MCRecordAnti.append(corp_bond_cv(mat, def_rate, rf_rate, recovery, n_sample,True,False))\n",
    "MCmeanAnti=np.mean(np.array(MCRecordAnti))\n",
    "MCStdAnti=np.std(np.array(MCRecordAnti))\n",
    "print(\"Antithetic Method\")\n",
    "print(MCmeanAnti)\n",
    "print(MCStdAnti)\n",
    "\n",
    "MCRecordMatch=[]\n",
    "for i in range(0,100):\n",
    "    MCRecordMatch.append(corp_bond_cv(mat, def_rate, rf_rate, recovery, n_sample,False,True))\n",
    "MCmeanMatch=np.mean(np.array(MCRecordMatch))\n",
    "MCStdMatch=np.std(np.array(MCRecordMatch))\n",
    "print(\"Mean-Matching Method\")\n",
    "print(MCmeanMatch)\n",
    "print(MCStdMatch)\n",
    "\n",
    "MCRecordBoth=[]\n",
    "for i in range(0,100):\n",
    "    MCRecordBoth.append(corp_bond_cv(mat, def_rate, rf_rate, recovery, n_sample,True,True))\n",
    "MCmeanBoth=np.mean(np.array(MCRecordBoth))\n",
    "MCStdBoth=np.std(np.array(MCRecordBoth))\n",
    "print(\"Both Methods\")\n",
    "print(MCmeanBoth)\n",
    "print(MCStdBoth)"
   ]
  },
  {
   "cell_type": "markdown",
   "metadata": {
    "collapsed": true
   },
   "source": [
    "### 3. Finally, what is the analytic value of the corporate bond? How does it compare to your MC result above?"
   ]
  },
  {
   "cell_type": "code",
   "execution_count": 7,
   "metadata": {},
   "outputs": [
    {
     "name": "stdout",
     "output_type": "stream",
     "text": [
      "Analytic Expression\n",
      " 0.44040907156462505\n"
     ]
    }
   ],
   "source": [
    "### Put the analytic expression for the corporate bond price\n",
    "\n",
    "r = def_rate + rf_rate\n",
    "price_analytic = 0.3 * (1 - np.exp(-r*mat)) * def_rate / r + np.exp(-r * mat)\n",
    "print(\"Analytic Expression\\n\",price_analytic)"
   ]
  },
  {
   "cell_type": "code",
   "execution_count": null,
   "metadata": {},
   "outputs": [],
   "source": []
  }
 ],
 "metadata": {
  "anaconda-cloud": {},
  "kernelspec": {
   "display_name": "Python 3",
   "language": "python",
   "name": "python3"
  },
  "language_info": {
   "codemirror_mode": {
    "name": "ipython",
    "version": 3
   },
   "file_extension": ".py",
   "mimetype": "text/x-python",
   "name": "python",
   "nbconvert_exporter": "python",
   "pygments_lexer": "ipython3",
   "version": "3.6.5"
  }
 },
 "nbformat": 4,
 "nbformat_minor": 1
}
